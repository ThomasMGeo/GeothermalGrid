{
 "cells": [
  {
   "cell_type": "markdown",
   "id": "3575cdc0-9ba6-4307-aeb5-33f704ef26f5",
   "metadata": {
    "tags": []
   },
   "source": [
    "# 0. Geothermal Data Exploration"
   ]
  },
  {
   "cell_type": "markdown",
   "id": "4ff8caac-2f3d-47c5-83f6-6a892d7ca880",
   "metadata": {
    "tags": []
   },
   "source": [
    "Short notebook to grab a geothermal dataset, and export for further use. "
   ]
  },
  {
   "cell_type": "markdown",
   "id": "148453f8-3d05-4e82-93e8-993a2fd8e690",
   "metadata": {},
   "source": [
    "Grabbing the data from SMU Repository loacted here: http://geothermal.smu.edu/static/DownloadFilesButtonPage.htm"
   ]
  },
  {
   "cell_type": "code",
   "execution_count": 1,
   "id": "79ef29ed-b903-4f70-b94c-793a69541a35",
   "metadata": {
    "tags": []
   },
   "outputs": [
    {
     "name": "stdout",
     "output_type": "stream",
     "text": [
      "--2023-03-28 16:29:27--  http://geothermal.smu.edu/static/DatasetsZipped/core.surface_site_county_state_materialized_view.zip\n",
      "Resolving geothermal.smu.edu (geothermal.smu.edu)... 129.119.65.73\n",
      "Connecting to geothermal.smu.edu (geothermal.smu.edu)|129.119.65.73|:80... connected.\n",
      "HTTP request sent, awaiting response... 200 OK\n",
      "Length: 77644711 (74M) [application/zip]\n",
      "Saving to: ‘core.surface_site_county_state_materialized_view.zip’\n",
      "\n",
      "core.surface_site_c 100%[===================>]  74.05M  22.5MB/s    in 3.3s    \n",
      "\n",
      "2023-03-28 16:29:30 (22.5 MB/s) - ‘core.surface_site_county_state_materialized_view.zip’ saved [77644711/77644711]\n",
      "\n"
     ]
    }
   ],
   "source": [
    "!wget http://geothermal.smu.edu/static/DatasetsZipped/core.surface_site_county_state_materialized_view.zip"
   ]
  },
  {
   "cell_type": "code",
   "execution_count": 2,
   "id": "abe8e599-e8c2-4698-818c-738add99e1d6",
   "metadata": {
    "tags": []
   },
   "outputs": [
    {
     "name": "stdout",
     "output_type": "stream",
     "text": [
      "Archive:  core.surface_site_county_state_materialized_view.zip\n",
      "  inflating: core.surface_site_county_state_materialized_view.csv  \n"
     ]
    }
   ],
   "source": [
    "!unzip core.surface_site_county_state_materialized_view.zip"
   ]
  },
  {
   "cell_type": "markdown",
   "id": "37539b8d-0571-4eb0-94f1-5c243702cfd8",
   "metadata": {
    "tags": []
   },
   "source": [
    "Information about the dataset can be found here: http://geothermal.smu.edu/static/DescribeColumns/AggregatedWellData.pdf"
   ]
  },
  {
   "cell_type": "markdown",
   "id": "205801e4-e34d-4ddf-8ca4-f74c0ccb52c3",
   "metadata": {},
   "source": [
    "### Python starts here"
   ]
  },
  {
   "cell_type": "markdown",
   "id": "c44aadcc-4e55-4a9b-ba13-4e4157c40804",
   "metadata": {},
   "source": [
    "If you want to re-run this from the beginning, start here!"
   ]
  },
  {
   "cell_type": "code",
   "execution_count": 3,
   "id": "62645f1e-a66d-4a9f-812b-b9cfccb5e4ad",
   "metadata": {},
   "outputs": [],
   "source": [
    "import pandas as pd\n",
    "import matplotlib.pyplot as plt\n",
    "\n",
    "import numpy as np"
   ]
  },
  {
   "cell_type": "code",
   "execution_count": 4,
   "id": "50cf6a11-ce15-48d9-87a3-690bb89d6936",
   "metadata": {
    "tags": []
   },
   "outputs": [
    {
     "data": {
      "text/html": [
       "<div>\n",
       "<style scoped>\n",
       "    .dataframe tbody tr th:only-of-type {\n",
       "        vertical-align: middle;\n",
       "    }\n",
       "\n",
       "    .dataframe tbody tr th {\n",
       "        vertical-align: top;\n",
       "    }\n",
       "\n",
       "    .dataframe thead th {\n",
       "        text-align: right;\n",
       "    }\n",
       "</style>\n",
       "<table border=\"1\" class=\"dataframe\">\n",
       "  <thead>\n",
       "    <tr style=\"text-align: right;\">\n",
       "      <th></th>\n",
       "      <th>id</th>\n",
       "      <th>uuid</th>\n",
       "      <th>name</th>\n",
       "      <th>site_name</th>\n",
       "      <th>other_location_name</th>\n",
       "      <th>api</th>\n",
       "      <th>latitude</th>\n",
       "      <th>longitude</th>\n",
       "      <th>state_id</th>\n",
       "      <th>state</th>\n",
       "      <th>...</th>\n",
       "      <th>county</th>\n",
       "      <th>county_id</th>\n",
       "      <th>bht</th>\n",
       "      <th>max_temperature</th>\n",
       "      <th>depth</th>\n",
       "      <th>shape</th>\n",
       "      <th>datasource</th>\n",
       "      <th>thermal_conductivity</th>\n",
       "      <th>heat_flow</th>\n",
       "      <th>precision_log_source_id</th>\n",
       "    </tr>\n",
       "  </thead>\n",
       "  <tbody>\n",
       "    <tr>\n",
       "      <th>0</th>\n",
       "      <td>525c74fd-a649-3f22-b8c8-8b6aeacb7b93</td>\n",
       "      <td>525c74fd-a649-3f22-b8c8-8b6aeacb7b93</td>\n",
       "      <td>42067802240000</td>\n",
       "      <td>NaN</td>\n",
       "      <td>NaN</td>\n",
       "      <td>42067802240000</td>\n",
       "      <td>32.939179</td>\n",
       "      <td>-94.148047</td>\n",
       "      <td>15.0</td>\n",
       "      <td>Texas</td>\n",
       "      <td>...</td>\n",
       "      <td>Cass County</td>\n",
       "      <td>4696.0</td>\n",
       "      <td>NaN</td>\n",
       "      <td>NaN</td>\n",
       "      <td>NaN</td>\n",
       "      <td>0101000020E610000021318B9A798957C0F04BA2033778...</td>\n",
       "      <td>MLKay</td>\n",
       "      <td>NaN</td>\n",
       "      <td>NaN</td>\n",
       "      <td>NaN</td>\n",
       "    </tr>\n",
       "    <tr>\n",
       "      <th>1</th>\n",
       "      <td>525c868b-820a-378a-8202-0bab8ee18479</td>\n",
       "      <td>525c868b-820a-378a-8202-0bab8ee18479</td>\n",
       "      <td>42135301260000</td>\n",
       "      <td>NaN</td>\n",
       "      <td>NaN</td>\n",
       "      <td>42135301260000</td>\n",
       "      <td>31.904262</td>\n",
       "      <td>-102.618668</td>\n",
       "      <td>15.0</td>\n",
       "      <td>Texas</td>\n",
       "      <td>...</td>\n",
       "      <td>Ector County</td>\n",
       "      <td>4897.0</td>\n",
       "      <td>NaN</td>\n",
       "      <td>NaN</td>\n",
       "      <td>1793.7480</td>\n",
       "      <td>0101000020E61000000525164298A759C0D28437B57DE7...</td>\n",
       "      <td>MLKay</td>\n",
       "      <td>NaN</td>\n",
       "      <td>NaN</td>\n",
       "      <td>NaN</td>\n",
       "    </tr>\n",
       "    <tr>\n",
       "      <th>2</th>\n",
       "      <td>525c9719-b3b8-3a60-9128-55e1fca5092b</td>\n",
       "      <td>525c9719-b3b8-3a60-9128-55e1fca5092b</td>\n",
       "      <td>42227341000000</td>\n",
       "      <td>NaN</td>\n",
       "      <td>NaN</td>\n",
       "      <td>42227341000000</td>\n",
       "      <td>32.115021</td>\n",
       "      <td>-101.260268</td>\n",
       "      <td>15.0</td>\n",
       "      <td>Texas</td>\n",
       "      <td>...</td>\n",
       "      <td>Howard County</td>\n",
       "      <td>4829.0</td>\n",
       "      <td>NaN</td>\n",
       "      <td>NaN</td>\n",
       "      <td>762.0000</td>\n",
       "      <td>0101000020E6100000578D6F39A85059C0F5EB9804B90E...</td>\n",
       "      <td>MLKay</td>\n",
       "      <td>NaN</td>\n",
       "      <td>NaN</td>\n",
       "      <td>NaN</td>\n",
       "    </tr>\n",
       "    <tr>\n",
       "      <th>3</th>\n",
       "      <td>525c9f62-8700-37a7-bdff-65c314d97bf2</td>\n",
       "      <td>525c9f62-8700-37a7-bdff-65c314d97bf2</td>\n",
       "      <td>42199322760000</td>\n",
       "      <td>NaN</td>\n",
       "      <td>NaN</td>\n",
       "      <td>42199322760000</td>\n",
       "      <td>30.141824</td>\n",
       "      <td>-94.431920</td>\n",
       "      <td>15.0</td>\n",
       "      <td>Texas</td>\n",
       "      <td>...</td>\n",
       "      <td>Hardin County</td>\n",
       "      <td>5123.0</td>\n",
       "      <td>NaN</td>\n",
       "      <td>NaN</td>\n",
       "      <td>1232.3064</td>\n",
       "      <td>0101000020E61000006A1E7695A49B57C08445459C4E24...</td>\n",
       "      <td>MLKay</td>\n",
       "      <td>NaN</td>\n",
       "      <td>NaN</td>\n",
       "      <td>NaN</td>\n",
       "    </tr>\n",
       "    <tr>\n",
       "      <th>4</th>\n",
       "      <td>525cae4a-52ed-370d-854c-c2bbfef4057b</td>\n",
       "      <td>525cae4a-52ed-370d-854c-c2bbfef4057b</td>\n",
       "      <td>42047000500000</td>\n",
       "      <td>NaN</td>\n",
       "      <td>NaN</td>\n",
       "      <td>42047000500000</td>\n",
       "      <td>27.252928</td>\n",
       "      <td>-98.165750</td>\n",
       "      <td>15.0</td>\n",
       "      <td>Texas</td>\n",
       "      <td>...</td>\n",
       "      <td>Brooks County</td>\n",
       "      <td>5762.0</td>\n",
       "      <td>NaN</td>\n",
       "      <td>NaN</td>\n",
       "      <td>2926.0800</td>\n",
       "      <td>0101000020E61000000475CAA39B8A58C09EBBB8E8BF40...</td>\n",
       "      <td>MLKay</td>\n",
       "      <td>NaN</td>\n",
       "      <td>NaN</td>\n",
       "      <td>NaN</td>\n",
       "    </tr>\n",
       "    <tr>\n",
       "      <th>5</th>\n",
       "      <td>525d4333-a815-3c8e-999b-89502fdf054f</td>\n",
       "      <td>525d4333-a815-3c8e-999b-89502fdf054f</td>\n",
       "      <td>42417337370000</td>\n",
       "      <td>NaN</td>\n",
       "      <td>NaN</td>\n",
       "      <td>42417337370000</td>\n",
       "      <td>32.799227</td>\n",
       "      <td>-99.154217</td>\n",
       "      <td>15.0</td>\n",
       "      <td>Texas</td>\n",
       "      <td>...</td>\n",
       "      <td>Shackelford County</td>\n",
       "      <td>4767.0</td>\n",
       "      <td>NaN</td>\n",
       "      <td>NaN</td>\n",
       "      <td>220.6752</td>\n",
       "      <td>0101000020E61000009A1F24B0DEC958C002C985144D66...</td>\n",
       "      <td>MLKay</td>\n",
       "      <td>NaN</td>\n",
       "      <td>NaN</td>\n",
       "      <td>NaN</td>\n",
       "    </tr>\n",
       "  </tbody>\n",
       "</table>\n",
       "<p>6 rows × 21 columns</p>\n",
       "</div>"
      ],
      "text/plain": [
       "                                     id                                  uuid  \\\n",
       "0  525c74fd-a649-3f22-b8c8-8b6aeacb7b93  525c74fd-a649-3f22-b8c8-8b6aeacb7b93   \n",
       "1  525c868b-820a-378a-8202-0bab8ee18479  525c868b-820a-378a-8202-0bab8ee18479   \n",
       "2  525c9719-b3b8-3a60-9128-55e1fca5092b  525c9719-b3b8-3a60-9128-55e1fca5092b   \n",
       "3  525c9f62-8700-37a7-bdff-65c314d97bf2  525c9f62-8700-37a7-bdff-65c314d97bf2   \n",
       "4  525cae4a-52ed-370d-854c-c2bbfef4057b  525cae4a-52ed-370d-854c-c2bbfef4057b   \n",
       "5  525d4333-a815-3c8e-999b-89502fdf054f  525d4333-a815-3c8e-999b-89502fdf054f   \n",
       "\n",
       "             name site_name other_location_name             api   latitude  \\\n",
       "0  42067802240000       NaN                 NaN  42067802240000  32.939179   \n",
       "1  42135301260000       NaN                 NaN  42135301260000  31.904262   \n",
       "2  42227341000000       NaN                 NaN  42227341000000  32.115021   \n",
       "3  42199322760000       NaN                 NaN  42199322760000  30.141824   \n",
       "4  42047000500000       NaN                 NaN  42047000500000  27.252928   \n",
       "5  42417337370000       NaN                 NaN  42417337370000  32.799227   \n",
       "\n",
       "    longitude  state_id  state  ...              county county_id  bht  \\\n",
       "0  -94.148047      15.0  Texas  ...         Cass County    4696.0  NaN   \n",
       "1 -102.618668      15.0  Texas  ...        Ector County    4897.0  NaN   \n",
       "2 -101.260268      15.0  Texas  ...       Howard County    4829.0  NaN   \n",
       "3  -94.431920      15.0  Texas  ...       Hardin County    5123.0  NaN   \n",
       "4  -98.165750      15.0  Texas  ...       Brooks County    5762.0  NaN   \n",
       "5  -99.154217      15.0  Texas  ...  Shackelford County    4767.0  NaN   \n",
       "\n",
       "   max_temperature      depth  \\\n",
       "0              NaN        NaN   \n",
       "1              NaN  1793.7480   \n",
       "2              NaN   762.0000   \n",
       "3              NaN  1232.3064   \n",
       "4              NaN  2926.0800   \n",
       "5              NaN   220.6752   \n",
       "\n",
       "                                               shape datasource  \\\n",
       "0  0101000020E610000021318B9A798957C0F04BA2033778...      MLKay   \n",
       "1  0101000020E61000000525164298A759C0D28437B57DE7...      MLKay   \n",
       "2  0101000020E6100000578D6F39A85059C0F5EB9804B90E...      MLKay   \n",
       "3  0101000020E61000006A1E7695A49B57C08445459C4E24...      MLKay   \n",
       "4  0101000020E61000000475CAA39B8A58C09EBBB8E8BF40...      MLKay   \n",
       "5  0101000020E61000009A1F24B0DEC958C002C985144D66...      MLKay   \n",
       "\n",
       "  thermal_conductivity  heat_flow  precision_log_source_id  \n",
       "0                  NaN        NaN                      NaN  \n",
       "1                  NaN        NaN                      NaN  \n",
       "2                  NaN        NaN                      NaN  \n",
       "3                  NaN        NaN                      NaN  \n",
       "4                  NaN        NaN                      NaN  \n",
       "5                  NaN        NaN                      NaN  \n",
       "\n",
       "[6 rows x 21 columns]"
      ]
     },
     "execution_count": 4,
     "metadata": {},
     "output_type": "execute_result"
    }
   ],
   "source": [
    "filename = 'core.surface_site_county_state_materialized_view.csv'\n",
    "\n",
    "df = pd.read_csv(filename)\n",
    "df.head(6)"
   ]
  },
  {
   "cell_type": "markdown",
   "id": "f8ca4ca9-7b3c-478a-a71e-fe6039e500de",
   "metadata": {},
   "source": [
    "Need to fix API numbers"
   ]
  },
  {
   "cell_type": "markdown",
   "id": "b4587a47-26ef-4f03-b4fc-b77f8387ad5f",
   "metadata": {},
   "source": [
    "Dropping some columns due to duplicate or unessary info. "
   ]
  },
  {
   "cell_type": "code",
   "execution_count": 5,
   "id": "c37015a8-8662-4e20-be0d-9f2a53f9a787",
   "metadata": {
    "tags": []
   },
   "outputs": [],
   "source": [
    "df.drop('id', inplace=True, axis=1)"
   ]
  },
  {
   "cell_type": "markdown",
   "id": "948796da-d4f7-45ca-8468-157b75ed7f54",
   "metadata": {},
   "source": [
    "## Some quick dataframe exploration"
   ]
  },
  {
   "cell_type": "code",
   "execution_count": 6,
   "id": "eef847b7-57e9-40ae-b257-36c9be424a71",
   "metadata": {
    "tags": []
   },
   "outputs": [
    {
     "data": {
      "text/plain": [
       "(973462, 20)"
      ]
     },
     "execution_count": 6,
     "metadata": {},
     "output_type": "execute_result"
    }
   ],
   "source": [
    "original_row_count = df.shape[0]\n",
    "df.shape"
   ]
  },
  {
   "cell_type": "code",
   "execution_count": 7,
   "id": "9369b552-624c-43c6-9155-75a3bcab40c4",
   "metadata": {
    "tags": []
   },
   "outputs": [
    {
     "data": {
      "text/html": [
       "<div>\n",
       "<style scoped>\n",
       "    .dataframe tbody tr th:only-of-type {\n",
       "        vertical-align: middle;\n",
       "    }\n",
       "\n",
       "    .dataframe tbody tr th {\n",
       "        vertical-align: top;\n",
       "    }\n",
       "\n",
       "    .dataframe thead th {\n",
       "        text-align: right;\n",
       "    }\n",
       "</style>\n",
       "<table border=\"1\" class=\"dataframe\">\n",
       "  <thead>\n",
       "    <tr style=\"text-align: right;\">\n",
       "      <th></th>\n",
       "      <th>latitude</th>\n",
       "      <th>longitude</th>\n",
       "      <th>state_id</th>\n",
       "      <th>county_id</th>\n",
       "      <th>bht</th>\n",
       "      <th>max_temperature</th>\n",
       "      <th>depth</th>\n",
       "      <th>thermal_conductivity</th>\n",
       "      <th>heat_flow</th>\n",
       "    </tr>\n",
       "  </thead>\n",
       "  <tbody>\n",
       "    <tr>\n",
       "      <th>count</th>\n",
       "      <td>973431.000000</td>\n",
       "      <td>973431.000000</td>\n",
       "      <td>929227.000000</td>\n",
       "      <td>929229.00000</td>\n",
       "      <td>1.420690e+05</td>\n",
       "      <td>10410.000000</td>\n",
       "      <td>652206.000000</td>\n",
       "      <td>77140.000000</td>\n",
       "      <td>76305.000000</td>\n",
       "    </tr>\n",
       "    <tr>\n",
       "      <th>mean</th>\n",
       "      <td>31.713129</td>\n",
       "      <td>-97.884886</td>\n",
       "      <td>15.771716</td>\n",
       "      <td>4820.77445</td>\n",
       "      <td>1.546958e+02</td>\n",
       "      <td>37.626682</td>\n",
       "      <td>1955.982767</td>\n",
       "      <td>2.112322</td>\n",
       "      <td>88.666699</td>\n",
       "    </tr>\n",
       "    <tr>\n",
       "      <th>std</th>\n",
       "      <td>4.434414</td>\n",
       "      <td>10.836636</td>\n",
       "      <td>4.631544</td>\n",
       "      <td>651.25847</td>\n",
       "      <td>2.772849e+04</td>\n",
       "      <td>44.003884</td>\n",
       "      <td>1211.760385</td>\n",
       "      <td>0.464913</td>\n",
       "      <td>257.250528</td>\n",
       "    </tr>\n",
       "    <tr>\n",
       "      <th>min</th>\n",
       "      <td>0.000000</td>\n",
       "      <td>-180.927301</td>\n",
       "      <td>1.000000</td>\n",
       "      <td>1.00000</td>\n",
       "      <td>-3.333333e+00</td>\n",
       "      <td>-0.220000</td>\n",
       "      <td>0.700000</td>\n",
       "      <td>0.260000</td>\n",
       "      <td>-0.600000</td>\n",
       "    </tr>\n",
       "    <tr>\n",
       "      <th>25%</th>\n",
       "      <td>30.042894</td>\n",
       "      <td>-101.250728</td>\n",
       "      <td>15.000000</td>\n",
       "      <td>4675.00000</td>\n",
       "      <td>4.720000e+01</td>\n",
       "      <td>15.280000</td>\n",
       "      <td>1019.860800</td>\n",
       "      <td>1.900000</td>\n",
       "      <td>49.920000</td>\n",
       "    </tr>\n",
       "    <tr>\n",
       "      <th>50%</th>\n",
       "      <td>32.073083</td>\n",
       "      <td>-98.877778</td>\n",
       "      <td>15.000000</td>\n",
       "      <td>4851.00000</td>\n",
       "      <td>7.890000e+01</td>\n",
       "      <td>22.200000</td>\n",
       "      <td>1798.320000</td>\n",
       "      <td>2.070000</td>\n",
       "      <td>59.000000</td>\n",
       "    </tr>\n",
       "    <tr>\n",
       "      <th>75%</th>\n",
       "      <td>33.159859</td>\n",
       "      <td>-96.991659</td>\n",
       "      <td>15.000000</td>\n",
       "      <td>5096.00000</td>\n",
       "      <td>1.078000e+02</td>\n",
       "      <td>42.790000</td>\n",
       "      <td>2737.104000</td>\n",
       "      <td>2.320000</td>\n",
       "      <td>75.000000</td>\n",
       "    </tr>\n",
       "    <tr>\n",
       "      <th>max</th>\n",
       "      <td>71.199684</td>\n",
       "      <td>0.000000</td>\n",
       "      <td>51.000000</td>\n",
       "      <td>6019.00000</td>\n",
       "      <td>1.045146e+07</td>\n",
       "      <td>355.000000</td>\n",
       "      <td>78373.224000</td>\n",
       "      <td>7.235000</td>\n",
       "      <td>23012.000000</td>\n",
       "    </tr>\n",
       "  </tbody>\n",
       "</table>\n",
       "</div>"
      ],
      "text/plain": [
       "            latitude      longitude       state_id     county_id  \\\n",
       "count  973431.000000  973431.000000  929227.000000  929229.00000   \n",
       "mean       31.713129     -97.884886      15.771716    4820.77445   \n",
       "std         4.434414      10.836636       4.631544     651.25847   \n",
       "min         0.000000    -180.927301       1.000000       1.00000   \n",
       "25%        30.042894    -101.250728      15.000000    4675.00000   \n",
       "50%        32.073083     -98.877778      15.000000    4851.00000   \n",
       "75%        33.159859     -96.991659      15.000000    5096.00000   \n",
       "max        71.199684       0.000000      51.000000    6019.00000   \n",
       "\n",
       "                bht  max_temperature          depth  thermal_conductivity  \\\n",
       "count  1.420690e+05     10410.000000  652206.000000          77140.000000   \n",
       "mean   1.546958e+02        37.626682    1955.982767              2.112322   \n",
       "std    2.772849e+04        44.003884    1211.760385              0.464913   \n",
       "min   -3.333333e+00        -0.220000       0.700000              0.260000   \n",
       "25%    4.720000e+01        15.280000    1019.860800              1.900000   \n",
       "50%    7.890000e+01        22.200000    1798.320000              2.070000   \n",
       "75%    1.078000e+02        42.790000    2737.104000              2.320000   \n",
       "max    1.045146e+07       355.000000   78373.224000              7.235000   \n",
       "\n",
       "          heat_flow  \n",
       "count  76305.000000  \n",
       "mean      88.666699  \n",
       "std      257.250528  \n",
       "min       -0.600000  \n",
       "25%       49.920000  \n",
       "50%       59.000000  \n",
       "75%       75.000000  \n",
       "max    23012.000000  "
      ]
     },
     "execution_count": 7,
     "metadata": {},
     "output_type": "execute_result"
    }
   ],
   "source": [
    "df.describe()"
   ]
  },
  {
   "cell_type": "markdown",
   "id": "a6bf4dde-a8c8-4401-8877-4a334cc0e97f",
   "metadata": {},
   "source": [
    "Looks like there are some rows without lat and long. We will also drop state_id and depths, this will limit the area to onshore US."
   ]
  },
  {
   "cell_type": "code",
   "execution_count": 8,
   "id": "8bebabda-81cf-41d8-9dab-b26d8716bfde",
   "metadata": {
    "tags": []
   },
   "outputs": [],
   "source": [
    "df = df.dropna(subset=['latitude', 'longitude', 'depth', 'state_id'])"
   ]
  },
  {
   "cell_type": "markdown",
   "id": "ff47c205-44a0-415b-82f7-8eaf1256c773",
   "metadata": {
    "tags": []
   },
   "source": [
    "Doing a quick plot of depth, to see what we have:"
   ]
  },
  {
   "cell_type": "code",
   "execution_count": 9,
   "id": "565416e9-cadb-44a8-8e87-abb338f02542",
   "metadata": {
    "tags": []
   },
   "outputs": [
    {
     "data": {
      "image/png": "[encoded data removed]",
      "text/plain": [
       "<Figure size 432x288 with 1 Axes>"
      ]
     },
     "metadata": {
      "needs_background": "light"
     },
     "output_type": "display_data"
    }
   ],
   "source": [
    "plt.hist(df.depth, bins = 21); #play with the bins!"
   ]
  },
  {
   "cell_type": "markdown",
   "id": "46ffe77f-7c6e-40e9-8f1f-87529c872997",
   "metadata": {},
   "source": [
    "Depth is in meters! Looks like we only have a few above 6000m, but lets remove those as well."
   ]
  },
  {
   "cell_type": "code",
   "execution_count": 10,
   "id": "5ee5d67e-4c3b-41a5-9a92-c030a07caabd",
   "metadata": {
    "tags": []
   },
   "outputs": [],
   "source": [
    "df = df[df['depth'] <= 6000]"
   ]
  },
  {
   "cell_type": "markdown",
   "id": "6a374acd-6fd1-4f4c-8315-be881d805977",
   "metadata": {},
   "source": [
    "Will also round the depths, lat, and long. "
   ]
  },
  {
   "cell_type": "code",
   "execution_count": 11,
   "id": "a84686e2-85dc-4e58-8750-e24f0052ef8e",
   "metadata": {
    "tags": []
   },
   "outputs": [],
   "source": [
    "df.depth = np.round(df.depth.values, 2)\n",
    "df.longitude = np.round(df.longitude.values, 3)\n",
    "df.latitude = np.round(df.latitude.values, 3)"
   ]
  },
  {
   "cell_type": "markdown",
   "id": "7f2ada01-5161-4c7f-b338-912b34a71ae2",
   "metadata": {},
   "source": [
    "quick re-plot"
   ]
  },
  {
   "cell_type": "code",
   "execution_count": 12,
   "id": "41857033-73fb-495b-ba4e-820c4162c2f3",
   "metadata": {
    "tags": []
   },
   "outputs": [
    {
     "data": {
      "image/png": "[encoded data removed]",
      "text/plain": [
       "<Figure size 432x288 with 1 Axes>"
      ]
     },
     "metadata": {
      "needs_background": "light"
     },
     "output_type": "display_data"
    }
   ],
   "source": [
    "plt.hist(df.depth, bins = 21); #play with the bins!"
   ]
  },
  {
   "cell_type": "code",
   "execution_count": 13,
   "id": "3270dcc4-aced-4ffa-b93e-f955a6eca1ed",
   "metadata": {
    "tags": []
   },
   "outputs": [
    {
     "data": {
      "image/png": "[encoded data removed]",
      "text/plain": [
       "<Figure size 576x288 with 1 Axes>"
      ]
     },
     "metadata": {
      "needs_background": "light"
     },
     "output_type": "display_data"
    }
   ],
   "source": [
    "plt.figure(figsize=(8,4))\n",
    "\n",
    "plt.bar(df.describe().columns,\n",
    "        df.describe().T['count'].values);\n",
    "\n",
    "plt.grid(axis='y',\n",
    "        alpha=0.5)\n",
    "\n",
    "plt.title('Count', size=16)\n",
    "\n",
    "plt.xticks(rotation=45, ha='right', size=14);"
   ]
  },
  {
   "cell_type": "code",
   "execution_count": 14,
   "id": "33ebab62-3b35-48e3-a183-44fe4162a4f1",
   "metadata": {
    "tags": []
   },
   "outputs": [],
   "source": [
    "df = df.dropna(axis=0, #drop rows\n",
    "                thresh=6) # requires 6 non-NA values"
   ]
  },
  {
   "cell_type": "code",
   "execution_count": 15,
   "id": "40e522dc-82dc-40d2-8d96-b125cfda47a6",
   "metadata": {
    "tags": []
   },
   "outputs": [
    {
     "name": "stdout",
     "output_type": "stream",
     "text": [
      "Number of rows removed: 358919\n",
      "dataframe shape (rows, columns) (614543, 20)\n"
     ]
    }
   ],
   "source": [
    "new_row_count = df.shape[0]\n",
    "print('Number of rows removed:', original_row_count - new_row_count)\n",
    "\n",
    "print('dataframe shape (rows, columns)', df.shape)"
   ]
  },
  {
   "cell_type": "markdown",
   "id": "a3ea01b8-3729-4329-a7ef-d71c204d025c",
   "metadata": {},
   "source": [
    "### Adding in Gravity Geophysical Data:"
   ]
  },
  {
   "cell_type": "markdown",
   "id": "dc9215ee-b02b-419e-8071-9480694aea75",
   "metadata": {},
   "source": [
    "information about the dataset is here: https://mrdata.usgs.gov/gravity/"
   ]
  },
  {
   "cell_type": "code",
   "execution_count": 16,
   "id": "518debd6-eb63-42d3-9b8f-8940e687b7c5",
   "metadata": {
    "tags": []
   },
   "outputs": [
    {
     "data": {
      "text/html": [
       "<div>\n",
       "<style scoped>\n",
       "    .dataframe tbody tr th:only-of-type {\n",
       "        vertical-align: middle;\n",
       "    }\n",
       "\n",
       "    .dataframe tbody tr th {\n",
       "        vertical-align: top;\n",
       "    }\n",
       "\n",
       "    .dataframe thead th {\n",
       "        text-align: right;\n",
       "    }\n",
       "</style>\n",
       "<table border=\"1\" class=\"dataframe\">\n",
       "  <thead>\n",
       "    <tr style=\"text-align: right;\">\n",
       "      <th></th>\n",
       "      <th>longitude</th>\n",
       "      <th>latitude</th>\n",
       "      <th>iso_grav</th>\n",
       "    </tr>\n",
       "  </thead>\n",
       "  <tbody>\n",
       "    <tr>\n",
       "      <th>0</th>\n",
       "      <td>-97.657</td>\n",
       "      <td>24.638</td>\n",
       "      <td>21.3</td>\n",
       "    </tr>\n",
       "    <tr>\n",
       "      <th>1</th>\n",
       "      <td>-97.618</td>\n",
       "      <td>24.639</td>\n",
       "      <td>21.6</td>\n",
       "    </tr>\n",
       "    <tr>\n",
       "      <th>2</th>\n",
       "      <td>-97.579</td>\n",
       "      <td>24.640</td>\n",
       "      <td>21.8</td>\n",
       "    </tr>\n",
       "    <tr>\n",
       "      <th>3</th>\n",
       "      <td>-97.540</td>\n",
       "      <td>24.640</td>\n",
       "      <td>22.3</td>\n",
       "    </tr>\n",
       "    <tr>\n",
       "      <th>4</th>\n",
       "      <td>-97.501</td>\n",
       "      <td>24.641</td>\n",
       "      <td>22.4</td>\n",
       "    </tr>\n",
       "  </tbody>\n",
       "</table>\n",
       "</div>"
      ],
      "text/plain": [
       "   longitude  latitude  iso_grav\n",
       "0    -97.657    24.638      21.3\n",
       "1    -97.618    24.639      21.6\n",
       "2    -97.579    24.640      21.8\n",
       "3    -97.540    24.640      22.3\n",
       "4    -97.501    24.641      22.4"
      ]
     },
     "execution_count": 16,
     "metadata": {},
     "output_type": "execute_result"
    }
   ],
   "source": [
    "filename_iso = 'isograv.xyz'\n",
    "colnames_iso =['longitude', 'latitude', 'iso_grav'] \n",
    "\n",
    "df_iso = pd.read_csv(filename_iso, delim_whitespace=True, lineterminator='\\n', names=colnames_iso)\n",
    "\n",
    "df_iso.longitude = np.round(df_iso.longitude.values, 3)\n",
    "df_iso.latitude = np.round(df_iso.latitude.values, 3)\n",
    "\n",
    "df_iso.head(5)"
   ]
  },
  {
   "cell_type": "code",
   "execution_count": 17,
   "id": "ea8afeb6-2323-4ee0-a2b1-4322a9a6e4d9",
   "metadata": {
    "tags": []
   },
   "outputs": [
    {
     "data": {
      "text/html": [
       "<div>\n",
       "<style scoped>\n",
       "    .dataframe tbody tr th:only-of-type {\n",
       "        vertical-align: middle;\n",
       "    }\n",
       "\n",
       "    .dataframe tbody tr th {\n",
       "        vertical-align: top;\n",
       "    }\n",
       "\n",
       "    .dataframe thead th {\n",
       "        text-align: right;\n",
       "    }\n",
       "</style>\n",
       "<table border=\"1\" class=\"dataframe\">\n",
       "  <thead>\n",
       "    <tr style=\"text-align: right;\">\n",
       "      <th></th>\n",
       "      <th>longitude</th>\n",
       "      <th>latitude</th>\n",
       "      <th>bou_grav</th>\n",
       "    </tr>\n",
       "  </thead>\n",
       "  <tbody>\n",
       "    <tr>\n",
       "      <th>0</th>\n",
       "      <td>-97.657</td>\n",
       "      <td>24.638</td>\n",
       "      <td>23.0</td>\n",
       "    </tr>\n",
       "    <tr>\n",
       "      <th>1</th>\n",
       "      <td>-97.618</td>\n",
       "      <td>24.639</td>\n",
       "      <td>25.0</td>\n",
       "    </tr>\n",
       "    <tr>\n",
       "      <th>2</th>\n",
       "      <td>-97.579</td>\n",
       "      <td>24.640</td>\n",
       "      <td>26.0</td>\n",
       "    </tr>\n",
       "    <tr>\n",
       "      <th>3</th>\n",
       "      <td>-97.540</td>\n",
       "      <td>24.640</td>\n",
       "      <td>26.0</td>\n",
       "    </tr>\n",
       "    <tr>\n",
       "      <th>4</th>\n",
       "      <td>-97.501</td>\n",
       "      <td>24.641</td>\n",
       "      <td>27.0</td>\n",
       "    </tr>\n",
       "  </tbody>\n",
       "</table>\n",
       "</div>"
      ],
      "text/plain": [
       "   longitude  latitude  bou_grav\n",
       "0    -97.657    24.638      23.0\n",
       "1    -97.618    24.639      25.0\n",
       "2    -97.579    24.640      26.0\n",
       "3    -97.540    24.640      26.0\n",
       "4    -97.501    24.641      27.0"
      ]
     },
     "execution_count": 17,
     "metadata": {},
     "output_type": "execute_result"
    }
   ],
   "source": [
    "filename_bou = 'bouguer.xyz'\n",
    "colnames_bou =['longitude', 'latitude', 'bou_grav'] \n",
    "\n",
    "df_bou = pd.read_csv(filename_bou, delim_whitespace=True, lineterminator='\\n', names=colnames_bou)\n",
    "\n",
    "df_bou.longitude = np.round(df_bou.longitude.values, 3)\n",
    "df_bou.latitude = np.round(df_bou.latitude.values, 3)\n",
    "\n",
    "df_bou.head(5)"
   ]
  },
  {
   "cell_type": "code",
   "execution_count": 18,
   "id": "a47a9ded-8005-446f-bf54-a72e37b58be6",
   "metadata": {
    "tags": []
   },
   "outputs": [
    {
     "data": {
      "text/html": [
       "<div>\n",
       "<style scoped>\n",
       "    .dataframe tbody tr th:only-of-type {\n",
       "        vertical-align: middle;\n",
       "    }\n",
       "\n",
       "    .dataframe tbody tr th {\n",
       "        vertical-align: top;\n",
       "    }\n",
       "\n",
       "    .dataframe thead th {\n",
       "        text-align: right;\n",
       "    }\n",
       "</style>\n",
       "<table border=\"1\" class=\"dataframe\">\n",
       "  <thead>\n",
       "    <tr style=\"text-align: right;\">\n",
       "      <th></th>\n",
       "      <th>longitude</th>\n",
       "      <th>latitude</th>\n",
       "      <th>iso_grav</th>\n",
       "      <th>bou_grav</th>\n",
       "    </tr>\n",
       "  </thead>\n",
       "  <tbody>\n",
       "    <tr>\n",
       "      <th>0</th>\n",
       "      <td>-97.657</td>\n",
       "      <td>24.638</td>\n",
       "      <td>21.3</td>\n",
       "      <td>23.0</td>\n",
       "    </tr>\n",
       "    <tr>\n",
       "      <th>1</th>\n",
       "      <td>-97.618</td>\n",
       "      <td>24.639</td>\n",
       "      <td>21.6</td>\n",
       "      <td>25.0</td>\n",
       "    </tr>\n",
       "    <tr>\n",
       "      <th>2</th>\n",
       "      <td>-97.579</td>\n",
       "      <td>24.640</td>\n",
       "      <td>21.8</td>\n",
       "      <td>26.0</td>\n",
       "    </tr>\n",
       "    <tr>\n",
       "      <th>3</th>\n",
       "      <td>-97.540</td>\n",
       "      <td>24.640</td>\n",
       "      <td>22.3</td>\n",
       "      <td>26.0</td>\n",
       "    </tr>\n",
       "    <tr>\n",
       "      <th>4</th>\n",
       "      <td>-97.501</td>\n",
       "      <td>24.641</td>\n",
       "      <td>22.4</td>\n",
       "      <td>27.0</td>\n",
       "    </tr>\n",
       "    <tr>\n",
       "      <th>...</th>\n",
       "      <td>...</td>\n",
       "      <td>...</td>\n",
       "      <td>...</td>\n",
       "      <td>...</td>\n",
       "    </tr>\n",
       "    <tr>\n",
       "      <th>728652</th>\n",
       "      <td>-126.718</td>\n",
       "      <td>48.955</td>\n",
       "      <td>-42.5</td>\n",
       "      <td>-30.0</td>\n",
       "    </tr>\n",
       "    <tr>\n",
       "      <th>728653</th>\n",
       "      <td>-126.666</td>\n",
       "      <td>48.966</td>\n",
       "      <td>-42.3</td>\n",
       "      <td>-29.0</td>\n",
       "    </tr>\n",
       "    <tr>\n",
       "      <th>728654</th>\n",
       "      <td>-126.615</td>\n",
       "      <td>48.978</td>\n",
       "      <td>-41.5</td>\n",
       "      <td>-29.0</td>\n",
       "    </tr>\n",
       "    <tr>\n",
       "      <th>728655</th>\n",
       "      <td>-126.564</td>\n",
       "      <td>48.989</td>\n",
       "      <td>-44.9</td>\n",
       "      <td>-29.0</td>\n",
       "    </tr>\n",
       "    <tr>\n",
       "      <th>728656</th>\n",
       "      <td>-126.513</td>\n",
       "      <td>49.001</td>\n",
       "      <td>-48.2</td>\n",
       "      <td>-29.0</td>\n",
       "    </tr>\n",
       "  </tbody>\n",
       "</table>\n",
       "<p>728657 rows × 4 columns</p>\n",
       "</div>"
      ],
      "text/plain": [
       "        longitude  latitude  iso_grav  bou_grav\n",
       "0         -97.657    24.638      21.3      23.0\n",
       "1         -97.618    24.639      21.6      25.0\n",
       "2         -97.579    24.640      21.8      26.0\n",
       "3         -97.540    24.640      22.3      26.0\n",
       "4         -97.501    24.641      22.4      27.0\n",
       "...           ...       ...       ...       ...\n",
       "728652   -126.718    48.955     -42.5     -30.0\n",
       "728653   -126.666    48.966     -42.3     -29.0\n",
       "728654   -126.615    48.978     -41.5     -29.0\n",
       "728655   -126.564    48.989     -44.9     -29.0\n",
       "728656   -126.513    49.001     -48.2     -29.0\n",
       "\n",
       "[728657 rows x 4 columns]"
      ]
     },
     "execution_count": 18,
     "metadata": {},
     "output_type": "execute_result"
    }
   ],
   "source": [
    "df_grav = df_iso.merge(df_bou, on=['longitude', 'latitude'], how='inner')\n",
    "df_grav"
   ]
  },
  {
   "cell_type": "markdown",
   "id": "7e14eafc-8df8-48db-833f-4b37bd85647c",
   "metadata": {},
   "source": [
    "Let's combine these dataframes:"
   ]
  },
  {
   "cell_type": "code",
   "execution_count": 19,
   "id": "80410684-4eb9-4064-b085-f5d5569fcc90",
   "metadata": {
    "tags": []
   },
   "outputs": [],
   "source": [
    "frames = [df, df_grav]\n",
    "combo_df = pd.concat(frames)"
   ]
  },
  {
   "cell_type": "code",
   "execution_count": 20,
   "id": "f7b9e10c-dff7-4c2d-9930-dcbb3b301ab6",
   "metadata": {
    "tags": []
   },
   "outputs": [
    {
     "data": {
      "text/html": [
       "<div>\n",
       "<style scoped>\n",
       "    .dataframe tbody tr th:only-of-type {\n",
       "        vertical-align: middle;\n",
       "    }\n",
       "\n",
       "    .dataframe tbody tr th {\n",
       "        vertical-align: top;\n",
       "    }\n",
       "\n",
       "    .dataframe thead th {\n",
       "        text-align: right;\n",
       "    }\n",
       "</style>\n",
       "<table border=\"1\" class=\"dataframe\">\n",
       "  <thead>\n",
       "    <tr style=\"text-align: right;\">\n",
       "      <th></th>\n",
       "      <th>latitude</th>\n",
       "      <th>longitude</th>\n",
       "      <th>state_id</th>\n",
       "      <th>county_id</th>\n",
       "      <th>bht</th>\n",
       "      <th>max_temperature</th>\n",
       "      <th>depth</th>\n",
       "      <th>thermal_conductivity</th>\n",
       "      <th>heat_flow</th>\n",
       "      <th>iso_grav</th>\n",
       "      <th>bou_grav</th>\n",
       "    </tr>\n",
       "  </thead>\n",
       "  <tbody>\n",
       "    <tr>\n",
       "      <th>count</th>\n",
       "      <td>1.343200e+06</td>\n",
       "      <td>1.343200e+06</td>\n",
       "      <td>614543.000000</td>\n",
       "      <td>614543.000000</td>\n",
       "      <td>115689.000000</td>\n",
       "      <td>9813.000000</td>\n",
       "      <td>614543.000000</td>\n",
       "      <td>70445.000000</td>\n",
       "      <td>69407.000000</td>\n",
       "      <td>728657.000000</td>\n",
       "      <td>728657.000000</td>\n",
       "    </tr>\n",
       "    <tr>\n",
       "      <th>mean</th>\n",
       "      <td>3.499662e+01</td>\n",
       "      <td>-9.694343e+01</td>\n",
       "      <td>16.039524</td>\n",
       "      <td>4797.500522</td>\n",
       "      <td>76.986959</td>\n",
       "      <td>38.029403</td>\n",
       "      <td>1843.006276</td>\n",
       "      <td>2.126775</td>\n",
       "      <td>84.895872</td>\n",
       "      <td>-8.935975</td>\n",
       "      <td>-63.696720</td>\n",
       "    </tr>\n",
       "    <tr>\n",
       "      <th>std</th>\n",
       "      <td>5.913487e+00</td>\n",
       "      <td>1.265698e+01</td>\n",
       "      <td>5.368075</td>\n",
       "      <td>724.290776</td>\n",
       "      <td>41.370140</td>\n",
       "      <td>44.824003</td>\n",
       "      <td>1084.530553</td>\n",
       "      <td>0.436863</td>\n",
       "      <td>254.061368</td>\n",
       "      <td>19.801887</td>\n",
       "      <td>68.972251</td>\n",
       "    </tr>\n",
       "    <tr>\n",
       "      <th>min</th>\n",
       "      <td>1.939500e+01</td>\n",
       "      <td>-1.652700e+02</td>\n",
       "      <td>1.000000</td>\n",
       "      <td>1.000000</td>\n",
       "      <td>-0.410000</td>\n",
       "      <td>-0.220000</td>\n",
       "      <td>0.910000</td>\n",
       "      <td>0.260000</td>\n",
       "      <td>-0.600000</td>\n",
       "      <td>-224.300000</td>\n",
       "      <td>-339.000000</td>\n",
       "    </tr>\n",
       "    <tr>\n",
       "      <th>25%</th>\n",
       "      <td>3.105000e+01</td>\n",
       "      <td>-1.025000e+02</td>\n",
       "      <td>15.000000</td>\n",
       "      <td>4678.000000</td>\n",
       "      <td>43.000000</td>\n",
       "      <td>15.080000</td>\n",
       "      <td>998.220000</td>\n",
       "      <td>1.920000</td>\n",
       "      <td>50.000000</td>\n",
       "      <td>-21.600000</td>\n",
       "      <td>-96.000000</td>\n",
       "    </tr>\n",
       "    <tr>\n",
       "      <th>50%</th>\n",
       "      <td>3.317500e+01</td>\n",
       "      <td>-9.852200e+01</td>\n",
       "      <td>15.000000</td>\n",
       "      <td>4856.000000</td>\n",
       "      <td>72.000000</td>\n",
       "      <td>22.290000</td>\n",
       "      <td>1706.580000</td>\n",
       "      <td>2.086000</td>\n",
       "      <td>58.000000</td>\n",
       "      <td>-9.200000</td>\n",
       "      <td>-42.000000</td>\n",
       "    </tr>\n",
       "    <tr>\n",
       "      <th>75%</th>\n",
       "      <td>3.921400e+01</td>\n",
       "      <td>-9.091400e+01</td>\n",
       "      <td>15.000000</td>\n",
       "      <td>5098.000000</td>\n",
       "      <td>105.600000</td>\n",
       "      <td>43.000000</td>\n",
       "      <td>2588.000000</td>\n",
       "      <td>2.330000</td>\n",
       "      <td>73.660000</td>\n",
       "      <td>3.700000</td>\n",
       "      <td>-16.000000</td>\n",
       "    </tr>\n",
       "    <tr>\n",
       "      <th>max</th>\n",
       "      <td>7.110000e+01</td>\n",
       "      <td>-6.434700e+01</td>\n",
       "      <td>51.000000</td>\n",
       "      <td>6019.000000</td>\n",
       "      <td>360.000000</td>\n",
       "      <td>355.000000</td>\n",
       "      <td>5997.550000</td>\n",
       "      <td>7.235000</td>\n",
       "      <td>23012.000000</td>\n",
       "      <td>104.800000</td>\n",
       "      <td>95.000000</td>\n",
       "    </tr>\n",
       "  </tbody>\n",
       "</table>\n",
       "</div>"
      ],
      "text/plain": [
       "           latitude     longitude       state_id      county_id  \\\n",
       "count  1.343200e+06  1.343200e+06  614543.000000  614543.000000   \n",
       "mean   3.499662e+01 -9.694343e+01      16.039524    4797.500522   \n",
       "std    5.913487e+00  1.265698e+01       5.368075     724.290776   \n",
       "min    1.939500e+01 -1.652700e+02       1.000000       1.000000   \n",
       "25%    3.105000e+01 -1.025000e+02      15.000000    4678.000000   \n",
       "50%    3.317500e+01 -9.852200e+01      15.000000    4856.000000   \n",
       "75%    3.921400e+01 -9.091400e+01      15.000000    5098.000000   \n",
       "max    7.110000e+01 -6.434700e+01      51.000000    6019.000000   \n",
       "\n",
       "                 bht  max_temperature          depth  thermal_conductivity  \\\n",
       "count  115689.000000      9813.000000  614543.000000          70445.000000   \n",
       "mean       76.986959        38.029403    1843.006276              2.126775   \n",
       "std        41.370140        44.824003    1084.530553              0.436863   \n",
       "min        -0.410000        -0.220000       0.910000              0.260000   \n",
       "25%        43.000000        15.080000     998.220000              1.920000   \n",
       "50%        72.000000        22.290000    1706.580000              2.086000   \n",
       "75%       105.600000        43.000000    2588.000000              2.330000   \n",
       "max       360.000000       355.000000    5997.550000              7.235000   \n",
       "\n",
       "          heat_flow       iso_grav       bou_grav  \n",
       "count  69407.000000  728657.000000  728657.000000  \n",
       "mean      84.895872      -8.935975     -63.696720  \n",
       "std      254.061368      19.801887      68.972251  \n",
       "min       -0.600000    -224.300000    -339.000000  \n",
       "25%       50.000000     -21.600000     -96.000000  \n",
       "50%       58.000000      -9.200000     -42.000000  \n",
       "75%       73.660000       3.700000     -16.000000  \n",
       "max    23012.000000     104.800000      95.000000  "
      ]
     },
     "execution_count": 20,
     "metadata": {},
     "output_type": "execute_result"
    }
   ],
   "source": [
    "combo_df.describe()"
   ]
  },
  {
   "cell_type": "markdown",
   "id": "73cf326b-5ae3-435e-8ace-a769010a9194",
   "metadata": {},
   "source": [
    "Lets compare that to a merge:"
   ]
  },
  {
   "cell_type": "code",
   "execution_count": 21,
   "id": "c499af00-b238-486c-95d6-4b811b4b3743",
   "metadata": {
    "tags": []
   },
   "outputs": [],
   "source": [
    "merge_df = df.merge(df_grav, on=['longitude', 'latitude'], how='outer')"
   ]
  },
  {
   "cell_type": "code",
   "execution_count": 22,
   "id": "15215495-da22-4ff1-a01d-ed76d3a52c04",
   "metadata": {
    "tags": []
   },
   "outputs": [
    {
     "data": {
      "text/html": [
       "<div>\n",
       "<style scoped>\n",
       "    .dataframe tbody tr th:only-of-type {\n",
       "        vertical-align: middle;\n",
       "    }\n",
       "\n",
       "    .dataframe tbody tr th {\n",
       "        vertical-align: top;\n",
       "    }\n",
       "\n",
       "    .dataframe thead th {\n",
       "        text-align: right;\n",
       "    }\n",
       "</style>\n",
       "<table border=\"1\" class=\"dataframe\">\n",
       "  <thead>\n",
       "    <tr style=\"text-align: right;\">\n",
       "      <th></th>\n",
       "      <th>latitude</th>\n",
       "      <th>longitude</th>\n",
       "      <th>state_id</th>\n",
       "      <th>county_id</th>\n",
       "      <th>bht</th>\n",
       "      <th>max_temperature</th>\n",
       "      <th>depth</th>\n",
       "      <th>thermal_conductivity</th>\n",
       "      <th>heat_flow</th>\n",
       "      <th>iso_grav</th>\n",
       "      <th>bou_grav</th>\n",
       "    </tr>\n",
       "  </thead>\n",
       "  <tbody>\n",
       "    <tr>\n",
       "      <th>count</th>\n",
       "      <td>1.342867e+06</td>\n",
       "      <td>1.342867e+06</td>\n",
       "      <td>614543.000000</td>\n",
       "      <td>614543.000000</td>\n",
       "      <td>115689.000000</td>\n",
       "      <td>9813.000000</td>\n",
       "      <td>614543.000000</td>\n",
       "      <td>70445.000000</td>\n",
       "      <td>69407.000000</td>\n",
       "      <td>728709.000000</td>\n",
       "      <td>728709.000000</td>\n",
       "    </tr>\n",
       "    <tr>\n",
       "      <th>mean</th>\n",
       "      <td>3.499739e+01</td>\n",
       "      <td>-9.694283e+01</td>\n",
       "      <td>16.039524</td>\n",
       "      <td>4797.500522</td>\n",
       "      <td>76.986959</td>\n",
       "      <td>38.029403</td>\n",
       "      <td>1843.006276</td>\n",
       "      <td>2.126775</td>\n",
       "      <td>84.895872</td>\n",
       "      <td>-8.936451</td>\n",
       "      <td>-63.697263</td>\n",
       "    </tr>\n",
       "    <tr>\n",
       "      <th>std</th>\n",
       "      <td>5.913816e+00</td>\n",
       "      <td>1.265835e+01</td>\n",
       "      <td>5.368075</td>\n",
       "      <td>724.290776</td>\n",
       "      <td>41.370140</td>\n",
       "      <td>44.824003</td>\n",
       "      <td>1084.530553</td>\n",
       "      <td>0.436863</td>\n",
       "      <td>254.061368</td>\n",
       "      <td>19.801785</td>\n",
       "      <td>68.973315</td>\n",
       "    </tr>\n",
       "    <tr>\n",
       "      <th>min</th>\n",
       "      <td>1.939500e+01</td>\n",
       "      <td>-1.652700e+02</td>\n",
       "      <td>1.000000</td>\n",
       "      <td>1.000000</td>\n",
       "      <td>-0.410000</td>\n",
       "      <td>-0.220000</td>\n",
       "      <td>0.910000</td>\n",
       "      <td>0.260000</td>\n",
       "      <td>-0.600000</td>\n",
       "      <td>-224.300000</td>\n",
       "      <td>-339.000000</td>\n",
       "    </tr>\n",
       "    <tr>\n",
       "      <th>25%</th>\n",
       "      <td>3.105000e+01</td>\n",
       "      <td>-1.025010e+02</td>\n",
       "      <td>15.000000</td>\n",
       "      <td>4678.000000</td>\n",
       "      <td>43.000000</td>\n",
       "      <td>15.080000</td>\n",
       "      <td>998.220000</td>\n",
       "      <td>1.920000</td>\n",
       "      <td>50.000000</td>\n",
       "      <td>-21.600000</td>\n",
       "      <td>-96.000000</td>\n",
       "    </tr>\n",
       "    <tr>\n",
       "      <th>50%</th>\n",
       "      <td>3.317600e+01</td>\n",
       "      <td>-9.852100e+01</td>\n",
       "      <td>15.000000</td>\n",
       "      <td>4856.000000</td>\n",
       "      <td>72.000000</td>\n",
       "      <td>22.290000</td>\n",
       "      <td>1706.580000</td>\n",
       "      <td>2.086000</td>\n",
       "      <td>58.000000</td>\n",
       "      <td>-9.200000</td>\n",
       "      <td>-42.000000</td>\n",
       "    </tr>\n",
       "    <tr>\n",
       "      <th>75%</th>\n",
       "      <td>3.921600e+01</td>\n",
       "      <td>-9.091000e+01</td>\n",
       "      <td>15.000000</td>\n",
       "      <td>5098.000000</td>\n",
       "      <td>105.600000</td>\n",
       "      <td>43.000000</td>\n",
       "      <td>2588.000000</td>\n",
       "      <td>2.330000</td>\n",
       "      <td>73.660000</td>\n",
       "      <td>3.700000</td>\n",
       "      <td>-16.000000</td>\n",
       "    </tr>\n",
       "    <tr>\n",
       "      <th>max</th>\n",
       "      <td>7.110000e+01</td>\n",
       "      <td>-6.434700e+01</td>\n",
       "      <td>51.000000</td>\n",
       "      <td>6019.000000</td>\n",
       "      <td>360.000000</td>\n",
       "      <td>355.000000</td>\n",
       "      <td>5997.550000</td>\n",
       "      <td>7.235000</td>\n",
       "      <td>23012.000000</td>\n",
       "      <td>104.800000</td>\n",
       "      <td>95.000000</td>\n",
       "    </tr>\n",
       "  </tbody>\n",
       "</table>\n",
       "</div>"
      ],
      "text/plain": [
       "           latitude     longitude       state_id      county_id  \\\n",
       "count  1.342867e+06  1.342867e+06  614543.000000  614543.000000   \n",
       "mean   3.499739e+01 -9.694283e+01      16.039524    4797.500522   \n",
       "std    5.913816e+00  1.265835e+01       5.368075     724.290776   \n",
       "min    1.939500e+01 -1.652700e+02       1.000000       1.000000   \n",
       "25%    3.105000e+01 -1.025010e+02      15.000000    4678.000000   \n",
       "50%    3.317600e+01 -9.852100e+01      15.000000    4856.000000   \n",
       "75%    3.921600e+01 -9.091000e+01      15.000000    5098.000000   \n",
       "max    7.110000e+01 -6.434700e+01      51.000000    6019.000000   \n",
       "\n",
       "                 bht  max_temperature          depth  thermal_conductivity  \\\n",
       "count  115689.000000      9813.000000  614543.000000          70445.000000   \n",
       "mean       76.986959        38.029403    1843.006276              2.126775   \n",
       "std        41.370140        44.824003    1084.530553              0.436863   \n",
       "min        -0.410000        -0.220000       0.910000              0.260000   \n",
       "25%        43.000000        15.080000     998.220000              1.920000   \n",
       "50%        72.000000        22.290000    1706.580000              2.086000   \n",
       "75%       105.600000        43.000000    2588.000000              2.330000   \n",
       "max       360.000000       355.000000    5997.550000              7.235000   \n",
       "\n",
       "          heat_flow       iso_grav       bou_grav  \n",
       "count  69407.000000  728709.000000  728709.000000  \n",
       "mean      84.895872      -8.936451     -63.697263  \n",
       "std      254.061368      19.801785      68.973315  \n",
       "min       -0.600000    -224.300000    -339.000000  \n",
       "25%       50.000000     -21.600000     -96.000000  \n",
       "50%       58.000000      -9.200000     -42.000000  \n",
       "75%       73.660000       3.700000     -16.000000  \n",
       "max    23012.000000     104.800000      95.000000  "
      ]
     },
     "execution_count": 22,
     "metadata": {},
     "output_type": "execute_result"
    }
   ],
   "source": [
    "merge_df.describe()"
   ]
  },
  {
   "cell_type": "markdown",
   "id": "9bcedda2-163d-4a9f-ba8c-0f847ee42bc1",
   "metadata": {},
   "source": [
    "#### Export"
   ]
  },
  {
   "cell_type": "markdown",
   "id": "f0c42524-2d75-46c1-96f9-59ceab09c220",
   "metadata": {},
   "source": [
    "Let's export this as a parquet file: https://en.wikipedia.org/wiki/Apache_Parquet"
   ]
  },
  {
   "cell_type": "code",
   "execution_count": 23,
   "id": "93a1f339-d6f0-4d60-8785-00e614cd4840",
   "metadata": {
    "tags": []
   },
   "outputs": [],
   "source": [
    "merge_df.to_parquet('cleaned_geothermal_data.parquet')"
   ]
  },
  {
   "cell_type": "markdown",
   "id": "3a1763be-61d1-497c-a034-d4c49bf3468b",
   "metadata": {
    "tags": []
   },
   "source": [
    "We will continue the analysis in a new notebook! :)"
   ]
  }
 ],
 "metadata": {
  "kernelspec": {
   "display_name": "Python 3 (ipykernel)",
   "language": "python",
   "name": "python3"
  },
  "language_info": {
   "codemirror_mode": {
    "name": "ipython",
    "version": 3
   },
   "file_extension": ".py",
   "mimetype": "text/x-python",
   "name": "python",
   "nbconvert_exporter": "python",
   "pygments_lexer": "ipython3",
   "version": "3.8.10"
  }
 },
 "nbformat": 4,
 "nbformat_minor": 5
}
